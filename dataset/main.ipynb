{
 "cells": [
  {
   "cell_type": "markdown",
   "id": "36583135",
   "metadata": {},
   "source": [
    "# Object Recognition on Cifar-10 using Pretrained ResNet50 model"
   ]
  },
  {
   "cell_type": "markdown",
   "id": "8322090c",
   "metadata": {},
   "source": []
  }
 ],
 "metadata": {
  "language_info": {
   "name": "python"
  }
 },
 "nbformat": 4,
 "nbformat_minor": 5
}
